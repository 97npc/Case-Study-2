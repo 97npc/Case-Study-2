{
 "cells": [
  {
   "cell_type": "code",
   "execution_count": 1,
   "id": "02584d65",
   "metadata": {},
   "outputs": [],
   "source": [
    "import pandas as pd\n",
    "import numpy as np\n",
    "import matplotlib.pyplot as plt\n",
    "import seaborn as sns"
   ]
  },
  {
   "cell_type": "markdown",
   "id": "65c2e1a3",
   "metadata": {},
   "source": [
    "## Read the data"
   ]
  },
  {
   "cell_type": "code",
   "execution_count": 2,
   "id": "1388a10c",
   "metadata": {},
   "outputs": [
    {
     "data": {
      "text/html": [
       "<div>\n",
       "<style scoped>\n",
       "    .dataframe tbody tr th:only-of-type {\n",
       "        vertical-align: middle;\n",
       "    }\n",
       "\n",
       "    .dataframe tbody tr th {\n",
       "        vertical-align: top;\n",
       "    }\n",
       "\n",
       "    .dataframe thead th {\n",
       "        text-align: right;\n",
       "    }\n",
       "</style>\n",
       "<table border=\"1\" class=\"dataframe\">\n",
       "  <thead>\n",
       "    <tr style=\"text-align: right;\">\n",
       "      <th></th>\n",
       "      <th>gender</th>\n",
       "      <th>race/ethnicity</th>\n",
       "      <th>parental level of education</th>\n",
       "      <th>lunch</th>\n",
       "      <th>test preparation course</th>\n",
       "      <th>math score</th>\n",
       "      <th>reading score</th>\n",
       "      <th>writing score</th>\n",
       "    </tr>\n",
       "  </thead>\n",
       "  <tbody>\n",
       "    <tr>\n",
       "      <th>0</th>\n",
       "      <td>female</td>\n",
       "      <td>group C</td>\n",
       "      <td>some high school</td>\n",
       "      <td>free/reduced</td>\n",
       "      <td>none</td>\n",
       "      <td>0</td>\n",
       "      <td>17</td>\n",
       "      <td>10</td>\n",
       "    </tr>\n",
       "    <tr>\n",
       "      <th>1</th>\n",
       "      <td>female</td>\n",
       "      <td>group B</td>\n",
       "      <td>high school</td>\n",
       "      <td>free/reduced</td>\n",
       "      <td>none</td>\n",
       "      <td>8</td>\n",
       "      <td>24</td>\n",
       "      <td>23</td>\n",
       "    </tr>\n",
       "    <tr>\n",
       "      <th>2</th>\n",
       "      <td>female</td>\n",
       "      <td>group B</td>\n",
       "      <td>some high school</td>\n",
       "      <td>free/reduced</td>\n",
       "      <td>none</td>\n",
       "      <td>18</td>\n",
       "      <td>32</td>\n",
       "      <td>28</td>\n",
       "    </tr>\n",
       "    <tr>\n",
       "      <th>3</th>\n",
       "      <td>female</td>\n",
       "      <td>group B</td>\n",
       "      <td>some college</td>\n",
       "      <td>standard</td>\n",
       "      <td>none</td>\n",
       "      <td>11</td>\n",
       "      <td>38</td>\n",
       "      <td>32</td>\n",
       "    </tr>\n",
       "    <tr>\n",
       "      <th>4</th>\n",
       "      <td>female</td>\n",
       "      <td>group C</td>\n",
       "      <td>some college</td>\n",
       "      <td>free/reduced</td>\n",
       "      <td>none</td>\n",
       "      <td>22</td>\n",
       "      <td>39</td>\n",
       "      <td>33</td>\n",
       "    </tr>\n",
       "  </tbody>\n",
       "</table>\n",
       "</div>"
      ],
      "text/plain": [
       "   gender race/ethnicity parental level of education         lunch  \\\n",
       "0  female        group C            some high school  free/reduced   \n",
       "1  female        group B                 high school  free/reduced   \n",
       "2  female        group B            some high school  free/reduced   \n",
       "3  female        group B                some college      standard   \n",
       "4  female        group C                some college  free/reduced   \n",
       "\n",
       "  test preparation course  math score  reading score  writing score  \n",
       "0                    none           0             17             10  \n",
       "1                    none           8             24             23  \n",
       "2                    none          18             32             28  \n",
       "3                    none          11             38             32  \n",
       "4                    none          22             39             33  "
      ]
     },
     "execution_count": 2,
     "metadata": {},
     "output_type": "execute_result"
    }
   ],
   "source": [
    "dt=pd.read_csv(\"StudentsPerformance.csv\")\n",
    "dt.head()"
   ]
  },
  {
   "cell_type": "code",
   "execution_count": 3,
   "id": "849e1952",
   "metadata": {},
   "outputs": [
    {
     "data": {
      "text/plain": [
       "gender                         0\n",
       "race/ethnicity                 0\n",
       "parental level of education    0\n",
       "lunch                          0\n",
       "test preparation course        0\n",
       "math score                     0\n",
       "reading score                  0\n",
       "writing score                  0\n",
       "dtype: int64"
      ]
     },
     "execution_count": 3,
     "metadata": {},
     "output_type": "execute_result"
    }
   ],
   "source": [
    "dt.isna().sum()"
   ]
  },
  {
   "cell_type": "code",
   "execution_count": 72,
   "id": "848c8ee9",
   "metadata": {},
   "outputs": [],
   "source": [
    "# no null values"
   ]
  },
  {
   "cell_type": "code",
   "execution_count": 4,
   "id": "4c708a02",
   "metadata": {},
   "outputs": [
    {
     "name": "stdout",
     "output_type": "stream",
     "text": [
      "<class 'pandas.core.frame.DataFrame'>\n",
      "RangeIndex: 1000 entries, 0 to 999\n",
      "Data columns (total 8 columns):\n",
      " #   Column                       Non-Null Count  Dtype \n",
      "---  ------                       --------------  ----- \n",
      " 0   gender                       1000 non-null   object\n",
      " 1   race/ethnicity               1000 non-null   object\n",
      " 2   parental level of education  1000 non-null   object\n",
      " 3   lunch                        1000 non-null   object\n",
      " 4   test preparation course      1000 non-null   object\n",
      " 5   math score                   1000 non-null   int64 \n",
      " 6   reading score                1000 non-null   int64 \n",
      " 7   writing score                1000 non-null   int64 \n",
      "dtypes: int64(3), object(5)\n",
      "memory usage: 62.6+ KB\n"
     ]
    }
   ],
   "source": [
    "dt.info()"
   ]
  },
  {
   "cell_type": "markdown",
   "id": "76b6fd06",
   "metadata": {},
   "source": [
    "## 1. Find out how many males and females participated in the test."
   ]
  },
  {
   "cell_type": "code",
   "execution_count": 60,
   "id": "bf7ea4db",
   "metadata": {},
   "outputs": [
    {
     "data": {
      "text/plain": [
       "female    518\n",
       "male      482\n",
       "Name: gender, dtype: int64"
      ]
     },
     "execution_count": 60,
     "metadata": {},
     "output_type": "execute_result"
    }
   ],
   "source": [
    "# Total no. of females and males in the data \n",
    "dt[\"gender\"].value_counts()"
   ]
  },
  {
   "cell_type": "code",
   "execution_count": 56,
   "id": "3836d202",
   "metadata": {},
   "outputs": [
    {
     "name": "stdout",
     "output_type": "stream",
     "text": [
      "No. of males participated  in the test = 174\n",
      "No. of females participated in the test = 184\n"
     ]
    }
   ],
   "source": [
    "# no. of males and females participated in the test\n",
    "male=dt[(dt[\"test preparation course\"]==\"completed\") & (dt[\"gender\"]==\"male\")].value_counts().sum()\n",
    "female=dt[(dt[\"test preparation course\"]==\"completed\") & (dt[\"gender\"]==\"female\")].value_counts().sum()\n",
    "print(\"No. of males participated  in the test =\",male)\n",
    "print(\"No. of females participated in the test =\",female)"
   ]
  },
  {
   "cell_type": "markdown",
   "id": "605b68aa",
   "metadata": {},
   "source": [
    "## 2. Students' parental level of education"
   ]
  },
  {
   "cell_type": "code",
   "execution_count": 25,
   "id": "fdf7de5a",
   "metadata": {},
   "outputs": [
    {
     "data": {
      "text/plain": [
       "array(['some high school', 'high school', 'some college',\n",
       "       \"associate's degree\", \"bachelor's degree\", \"master's degree\"],\n",
       "      dtype=object)"
      ]
     },
     "execution_count": 25,
     "metadata": {},
     "output_type": "execute_result"
    }
   ],
   "source": [
    "dt[\"parental level of education\"].unique()"
   ]
  },
  {
   "cell_type": "code",
   "execution_count": 26,
   "id": "40d22ba7",
   "metadata": {},
   "outputs": [
    {
     "data": {
      "text/plain": [
       "6"
      ]
     },
     "execution_count": 26,
     "metadata": {},
     "output_type": "execute_result"
    }
   ],
   "source": [
    "dt[\"parental level of education\"].nunique()"
   ]
  },
  {
   "cell_type": "code",
   "execution_count": 71,
   "id": "e6ec17a6",
   "metadata": {},
   "outputs": [
    {
     "data": {
      "image/png": "[encoded data removed]",
      "text/plain": [
       "<Figure size 432x288 with 1 Axes>"
      ]
     },
     "metadata": {
      "needs_background": "light"
     },
     "output_type": "display_data"
    }
   ],
   "source": [
    "sns.barplot(x=\"parental level of education\",y=\"math score\",data=dt,palette=\"spring\")\n",
    "plt.xlabel(\"Parental level of education\")\n",
    "plt.ylabel(\"math score\")\n",
    "plt.title(\"Parental education vs maths score\",{\"size\":20})\n",
    "plt.xticks(rotation=90)\n",
    "plt.show()"
   ]
  },
  {
   "cell_type": "markdown",
   "id": "21b733f1",
   "metadata": {},
   "source": [
    "#### DATA INSIGHT\n",
    "The highest average of maths score is for the children of parents with masters degree. "
   ]
  },
  {
   "cell_type": "code",
   "execution_count": 70,
   "id": "6e2ba22c",
   "metadata": {},
   "outputs": [
    {
     "data": {
      "image/png": "[encoded data removed]",
      "text/plain": [
       "<Figure size 432x288 with 1 Axes>"
      ]
     },
     "metadata": {
      "needs_background": "light"
     },
     "output_type": "display_data"
    }
   ],
   "source": [
    "sns.barplot(x=\"parental level of education\",y=\"reading score\",data=dt,estimator=np.max,ci=None,palette=\"flare\")\n",
    "plt.xlabel(\"Parental level of education\")\n",
    "plt.ylabel(\"reading score\")\n",
    "plt.title(\"Parental education vs reading score\",{\"size\":20})\n",
    "plt.xticks(rotation=90)\n",
    "plt.show()"
   ]
  },
  {
   "cell_type": "markdown",
   "id": "1d808ead",
   "metadata": {},
   "source": [
    "#### DATA INSIGHT\n",
    "The maximum marks scored in reading is the same for different level of parental education.Only a small change in value for high school category.The data also show an independent relation of parental education in consideration with maximum mark."
   ]
  },
  {
   "cell_type": "code",
   "execution_count": 29,
   "id": "5d64ca86",
   "metadata": {},
   "outputs": [
    {
     "data": {
      "text/html": [
       "<div>\n",
       "<style scoped>\n",
       "    .dataframe tbody tr th:only-of-type {\n",
       "        vertical-align: middle;\n",
       "    }\n",
       "\n",
       "    .dataframe tbody tr th {\n",
       "        vertical-align: top;\n",
       "    }\n",
       "\n",
       "    .dataframe thead th {\n",
       "        text-align: right;\n",
       "    }\n",
       "</style>\n",
       "<table border=\"1\" class=\"dataframe\">\n",
       "  <thead>\n",
       "    <tr style=\"text-align: right;\">\n",
       "      <th></th>\n",
       "      <th>count</th>\n",
       "      <th>mean</th>\n",
       "      <th>std</th>\n",
       "      <th>min</th>\n",
       "      <th>25%</th>\n",
       "      <th>50%</th>\n",
       "      <th>75%</th>\n",
       "      <th>max</th>\n",
       "    </tr>\n",
       "    <tr>\n",
       "      <th>parental level of education</th>\n",
       "      <th></th>\n",
       "      <th></th>\n",
       "      <th></th>\n",
       "      <th></th>\n",
       "      <th></th>\n",
       "      <th></th>\n",
       "      <th></th>\n",
       "      <th></th>\n",
       "    </tr>\n",
       "  </thead>\n",
       "  <tbody>\n",
       "    <tr>\n",
       "      <th>associate's degree</th>\n",
       "      <td>222.0</td>\n",
       "      <td>70.031532</td>\n",
       "      <td>14.260787</td>\n",
       "      <td>35.0</td>\n",
       "      <td>58.25</td>\n",
       "      <td>71.5</td>\n",
       "      <td>80.0</td>\n",
       "      <td>100.0</td>\n",
       "    </tr>\n",
       "    <tr>\n",
       "      <th>bachelor's degree</th>\n",
       "      <td>118.0</td>\n",
       "      <td>73.381356</td>\n",
       "      <td>14.728262</td>\n",
       "      <td>38.0</td>\n",
       "      <td>62.50</td>\n",
       "      <td>74.0</td>\n",
       "      <td>83.0</td>\n",
       "      <td>100.0</td>\n",
       "    </tr>\n",
       "    <tr>\n",
       "      <th>high school</th>\n",
       "      <td>196.0</td>\n",
       "      <td>62.403061</td>\n",
       "      <td>14.165172</td>\n",
       "      <td>15.0</td>\n",
       "      <td>52.00</td>\n",
       "      <td>64.0</td>\n",
       "      <td>73.0</td>\n",
       "      <td>100.0</td>\n",
       "    </tr>\n",
       "    <tr>\n",
       "      <th>master's degree</th>\n",
       "      <td>59.0</td>\n",
       "      <td>75.677966</td>\n",
       "      <td>13.730711</td>\n",
       "      <td>46.0</td>\n",
       "      <td>67.00</td>\n",
       "      <td>75.0</td>\n",
       "      <td>85.0</td>\n",
       "      <td>100.0</td>\n",
       "    </tr>\n",
       "    <tr>\n",
       "      <th>some college</th>\n",
       "      <td>226.0</td>\n",
       "      <td>69.035398</td>\n",
       "      <td>15.089911</td>\n",
       "      <td>19.0</td>\n",
       "      <td>60.00</td>\n",
       "      <td>70.0</td>\n",
       "      <td>79.0</td>\n",
       "      <td>99.0</td>\n",
       "    </tr>\n",
       "    <tr>\n",
       "      <th>some high school</th>\n",
       "      <td>179.0</td>\n",
       "      <td>64.888268</td>\n",
       "      <td>15.736197</td>\n",
       "      <td>10.0</td>\n",
       "      <td>54.00</td>\n",
       "      <td>66.0</td>\n",
       "      <td>77.0</td>\n",
       "      <td>100.0</td>\n",
       "    </tr>\n",
       "  </tbody>\n",
       "</table>\n",
       "</div>"
      ],
      "text/plain": [
       "                             count       mean        std   min    25%   50%  \\\n",
       "parental level of education                                                   \n",
       "associate's degree           222.0  70.031532  14.260787  35.0  58.25  71.5   \n",
       "bachelor's degree            118.0  73.381356  14.728262  38.0  62.50  74.0   \n",
       "high school                  196.0  62.403061  14.165172  15.0  52.00  64.0   \n",
       "master's degree               59.0  75.677966  13.730711  46.0  67.00  75.0   \n",
       "some college                 226.0  69.035398  15.089911  19.0  60.00  70.0   \n",
       "some high school             179.0  64.888268  15.736197  10.0  54.00  66.0   \n",
       "\n",
       "                              75%    max  \n",
       "parental level of education               \n",
       "associate's degree           80.0  100.0  \n",
       "bachelor's degree            83.0  100.0  \n",
       "high school                  73.0  100.0  \n",
       "master's degree              85.0  100.0  \n",
       "some college                 79.0   99.0  \n",
       "some high school             77.0  100.0  "
      ]
     },
     "execution_count": 29,
     "metadata": {},
     "output_type": "execute_result"
    }
   ],
   "source": [
    "dt.groupby(\"parental level of education\")[\"writing score\"].describe()"
   ]
  },
  {
   "cell_type": "markdown",
   "id": "dad9fb8e",
   "metadata": {},
   "source": [
    "\n",
    "\n",
    "#### DATA INSIGHT\n",
    "In consideration with writing score,the highest minimum mark is for children of parents with masters degree of education eventnough they belong to the less number."
   ]
  },
  {
   "cell_type": "markdown",
   "id": "92533466",
   "metadata": {},
   "source": [
    "## 3. Who scores the most on average for math, reading and writing "
   ]
  },
  {
   "cell_type": "markdown",
   "id": "f57add11",
   "metadata": {},
   "source": [
    "### a) Based on Gender"
   ]
  },
  {
   "cell_type": "code",
   "execution_count": 30,
   "id": "7d873a78",
   "metadata": {},
   "outputs": [
    {
     "data": {
      "text/html": [
       "<div>\n",
       "<style scoped>\n",
       "    .dataframe tbody tr th:only-of-type {\n",
       "        vertical-align: middle;\n",
       "    }\n",
       "\n",
       "    .dataframe tbody tr th {\n",
       "        vertical-align: top;\n",
       "    }\n",
       "\n",
       "    .dataframe thead tr th {\n",
       "        text-align: left;\n",
       "    }\n",
       "\n",
       "    .dataframe thead tr:last-of-type th {\n",
       "        text-align: right;\n",
       "    }\n",
       "</style>\n",
       "<table border=\"1\" class=\"dataframe\">\n",
       "  <thead>\n",
       "    <tr>\n",
       "      <th></th>\n",
       "      <th>math score</th>\n",
       "      <th>reading score</th>\n",
       "      <th>writing score</th>\n",
       "    </tr>\n",
       "    <tr>\n",
       "      <th></th>\n",
       "      <th>mean</th>\n",
       "      <th>mean</th>\n",
       "      <th>mean</th>\n",
       "    </tr>\n",
       "    <tr>\n",
       "      <th>gender</th>\n",
       "      <th></th>\n",
       "      <th></th>\n",
       "      <th></th>\n",
       "    </tr>\n",
       "  </thead>\n",
       "  <tbody>\n",
       "    <tr>\n",
       "      <th>female</th>\n",
       "      <td>63.376448</td>\n",
       "      <td>72.590734</td>\n",
       "      <td>72.467181</td>\n",
       "    </tr>\n",
       "    <tr>\n",
       "      <th>male</th>\n",
       "      <td>68.821577</td>\n",
       "      <td>65.545643</td>\n",
       "      <td>63.446058</td>\n",
       "    </tr>\n",
       "  </tbody>\n",
       "</table>\n",
       "</div>"
      ],
      "text/plain": [
       "       math score reading score writing score\n",
       "             mean          mean          mean\n",
       "gender                                       \n",
       "female  63.376448     72.590734     72.467181\n",
       "male    68.821577     65.545643     63.446058"
      ]
     },
     "execution_count": 30,
     "metadata": {},
     "output_type": "execute_result"
    }
   ],
   "source": [
    "dt.groupby([\"gender\"]).agg([\"mean\"])"
   ]
  },
  {
   "cell_type": "markdown",
   "id": "3abccbd6",
   "metadata": {},
   "source": [
    "#### DATA INSIGHT\n",
    "* The average score for maths only is highest for males.\n",
    "* The highest average score for both reading and writing are scored by females."
   ]
  },
  {
   "cell_type": "markdown",
   "id": "157fa0ff",
   "metadata": {},
   "source": [
    "### a) Based on Test preparation course"
   ]
  },
  {
   "cell_type": "code",
   "execution_count": 31,
   "id": "308acfa1",
   "metadata": {},
   "outputs": [
    {
     "data": {
      "text/html": [
       "<div>\n",
       "<style scoped>\n",
       "    .dataframe tbody tr th:only-of-type {\n",
       "        vertical-align: middle;\n",
       "    }\n",
       "\n",
       "    .dataframe tbody tr th {\n",
       "        vertical-align: top;\n",
       "    }\n",
       "\n",
       "    .dataframe thead tr th {\n",
       "        text-align: left;\n",
       "    }\n",
       "\n",
       "    .dataframe thead tr:last-of-type th {\n",
       "        text-align: right;\n",
       "    }\n",
       "</style>\n",
       "<table border=\"1\" class=\"dataframe\">\n",
       "  <thead>\n",
       "    <tr>\n",
       "      <th></th>\n",
       "      <th>math score</th>\n",
       "      <th>reading score</th>\n",
       "      <th>writing score</th>\n",
       "    </tr>\n",
       "    <tr>\n",
       "      <th></th>\n",
       "      <th>mean</th>\n",
       "      <th>mean</th>\n",
       "      <th>mean</th>\n",
       "    </tr>\n",
       "    <tr>\n",
       "      <th>test preparation course</th>\n",
       "      <th></th>\n",
       "      <th></th>\n",
       "      <th></th>\n",
       "    </tr>\n",
       "  </thead>\n",
       "  <tbody>\n",
       "    <tr>\n",
       "      <th>completed</th>\n",
       "      <td>69.96648</td>\n",
       "      <td>74.175978</td>\n",
       "      <td>74.684358</td>\n",
       "    </tr>\n",
       "    <tr>\n",
       "      <th>none</th>\n",
       "      <td>63.78972</td>\n",
       "      <td>66.417445</td>\n",
       "      <td>64.457944</td>\n",
       "    </tr>\n",
       "  </tbody>\n",
       "</table>\n",
       "</div>"
      ],
      "text/plain": [
       "                        math score reading score writing score\n",
       "                              mean          mean          mean\n",
       "test preparation course                                       \n",
       "completed                 69.96648     74.175978     74.684358\n",
       "none                      63.78972     66.417445     64.457944"
      ]
     },
     "execution_count": 31,
     "metadata": {},
     "output_type": "execute_result"
    }
   ],
   "source": [
    "dt.groupby([\"test preparation course\"]).agg([\"mean\"])"
   ]
  },
  {
   "cell_type": "markdown",
   "id": "4c8aff5e",
   "metadata": {},
   "source": [
    "#### DATA INSIGHT\n",
    "* The average for maths,reading and writing based on test preparation of course is higher for females."
   ]
  },
  {
   "cell_type": "markdown",
   "id": "d979596c",
   "metadata": {},
   "source": [
    "## 4. What do you think about the scoring variation for math, reading and writing\n"
   ]
  },
  {
   "cell_type": "markdown",
   "id": "1fbf1801",
   "metadata": {},
   "source": [
    "### a) Based on Gender "
   ]
  },
  {
   "cell_type": "code",
   "execution_count": 32,
   "id": "067d26d6",
   "metadata": {},
   "outputs": [
    {
     "data": {
      "text/html": [
       "<div>\n",
       "<style scoped>\n",
       "    .dataframe tbody tr th:only-of-type {\n",
       "        vertical-align: middle;\n",
       "    }\n",
       "\n",
       "    .dataframe tbody tr th {\n",
       "        vertical-align: top;\n",
       "    }\n",
       "\n",
       "    .dataframe thead tr th {\n",
       "        text-align: left;\n",
       "    }\n",
       "\n",
       "    .dataframe thead tr:last-of-type th {\n",
       "        text-align: right;\n",
       "    }\n",
       "</style>\n",
       "<table border=\"1\" class=\"dataframe\">\n",
       "  <thead>\n",
       "    <tr>\n",
       "      <th></th>\n",
       "      <th colspan=\"3\" halign=\"left\">math score</th>\n",
       "      <th colspan=\"3\" halign=\"left\">reading score</th>\n",
       "      <th colspan=\"3\" halign=\"left\">writing score</th>\n",
       "    </tr>\n",
       "    <tr>\n",
       "      <th></th>\n",
       "      <th>min</th>\n",
       "      <th>median</th>\n",
       "      <th>max</th>\n",
       "      <th>min</th>\n",
       "      <th>median</th>\n",
       "      <th>max</th>\n",
       "      <th>min</th>\n",
       "      <th>median</th>\n",
       "      <th>max</th>\n",
       "    </tr>\n",
       "    <tr>\n",
       "      <th>gender</th>\n",
       "      <th></th>\n",
       "      <th></th>\n",
       "      <th></th>\n",
       "      <th></th>\n",
       "      <th></th>\n",
       "      <th></th>\n",
       "      <th></th>\n",
       "      <th></th>\n",
       "      <th></th>\n",
       "    </tr>\n",
       "  </thead>\n",
       "  <tbody>\n",
       "    <tr>\n",
       "      <th>female</th>\n",
       "      <td>0</td>\n",
       "      <td>65</td>\n",
       "      <td>100</td>\n",
       "      <td>17</td>\n",
       "      <td>73</td>\n",
       "      <td>100</td>\n",
       "      <td>10</td>\n",
       "      <td>74</td>\n",
       "      <td>100</td>\n",
       "    </tr>\n",
       "    <tr>\n",
       "      <th>male</th>\n",
       "      <td>27</td>\n",
       "      <td>69</td>\n",
       "      <td>100</td>\n",
       "      <td>23</td>\n",
       "      <td>66</td>\n",
       "      <td>100</td>\n",
       "      <td>15</td>\n",
       "      <td>64</td>\n",
       "      <td>100</td>\n",
       "    </tr>\n",
       "  </tbody>\n",
       "</table>\n",
       "</div>"
      ],
      "text/plain": [
       "       math score             reading score             writing score         \\\n",
       "              min median  max           min median  max           min median   \n",
       "gender                                                                         \n",
       "female          0     65  100            17     73  100            10     74   \n",
       "male           27     69  100            23     66  100            15     64   \n",
       "\n",
       "             \n",
       "        max  \n",
       "gender       \n",
       "female  100  \n",
       "male    100  "
      ]
     },
     "execution_count": 32,
     "metadata": {},
     "output_type": "execute_result"
    }
   ],
   "source": [
    "dt.groupby([\"gender\"]).agg([\"min\",\"median\",\"max\"])\n"
   ]
  },
  {
   "cell_type": "markdown",
   "id": "bfb039ef",
   "metadata": {},
   "source": [
    "#### DATA INSIGHT\n",
    "* The minimum score obtained in all these categories is less for females than compared to that of males.\n",
    "* Both the genders scored the maximum limit score for all the categories.\n",
    "* The range between the scores for maths,reading,writing are more for females than males."
   ]
  },
  {
   "cell_type": "markdown",
   "id": "db33d3e0",
   "metadata": {},
   "source": [
    "### b) Based on Test preparation course"
   ]
  },
  {
   "cell_type": "code",
   "execution_count": 33,
   "id": "fd8f7e0e",
   "metadata": {},
   "outputs": [
    {
     "data": {
      "text/html": [
       "<div>\n",
       "<style scoped>\n",
       "    .dataframe tbody tr th:only-of-type {\n",
       "        vertical-align: middle;\n",
       "    }\n",
       "\n",
       "    .dataframe tbody tr th {\n",
       "        vertical-align: top;\n",
       "    }\n",
       "\n",
       "    .dataframe thead tr th {\n",
       "        text-align: left;\n",
       "    }\n",
       "\n",
       "    .dataframe thead tr:last-of-type th {\n",
       "        text-align: right;\n",
       "    }\n",
       "</style>\n",
       "<table border=\"1\" class=\"dataframe\">\n",
       "  <thead>\n",
       "    <tr>\n",
       "      <th></th>\n",
       "      <th colspan=\"3\" halign=\"left\">math score</th>\n",
       "      <th colspan=\"3\" halign=\"left\">reading score</th>\n",
       "      <th colspan=\"3\" halign=\"left\">writing score</th>\n",
       "    </tr>\n",
       "    <tr>\n",
       "      <th></th>\n",
       "      <th>min</th>\n",
       "      <th>median</th>\n",
       "      <th>max</th>\n",
       "      <th>min</th>\n",
       "      <th>median</th>\n",
       "      <th>max</th>\n",
       "      <th>min</th>\n",
       "      <th>median</th>\n",
       "      <th>max</th>\n",
       "    </tr>\n",
       "    <tr>\n",
       "      <th>test preparation course</th>\n",
       "      <th></th>\n",
       "      <th></th>\n",
       "      <th></th>\n",
       "      <th></th>\n",
       "      <th></th>\n",
       "      <th></th>\n",
       "      <th></th>\n",
       "      <th></th>\n",
       "      <th></th>\n",
       "    </tr>\n",
       "  </thead>\n",
       "  <tbody>\n",
       "    <tr>\n",
       "      <th>completed</th>\n",
       "      <td>23</td>\n",
       "      <td>70</td>\n",
       "      <td>100</td>\n",
       "      <td>37</td>\n",
       "      <td>75</td>\n",
       "      <td>100</td>\n",
       "      <td>36</td>\n",
       "      <td>76</td>\n",
       "      <td>100</td>\n",
       "    </tr>\n",
       "    <tr>\n",
       "      <th>none</th>\n",
       "      <td>0</td>\n",
       "      <td>64</td>\n",
       "      <td>100</td>\n",
       "      <td>17</td>\n",
       "      <td>67</td>\n",
       "      <td>100</td>\n",
       "      <td>10</td>\n",
       "      <td>65</td>\n",
       "      <td>100</td>\n",
       "    </tr>\n",
       "  </tbody>\n",
       "</table>\n",
       "</div>"
      ],
      "text/plain": [
       "                        math score             reading score              \\\n",
       "                               min median  max           min median  max   \n",
       "test preparation course                                                    \n",
       "completed                       23     70  100            37     75  100   \n",
       "none                             0     64  100            17     67  100   \n",
       "\n",
       "                        writing score              \n",
       "                                  min median  max  \n",
       "test preparation course                            \n",
       "completed                          36     76  100  \n",
       "none                               10     65  100  "
      ]
     },
     "execution_count": 33,
     "metadata": {},
     "output_type": "execute_result"
    }
   ],
   "source": [
    "\n",
    "dt.groupby([\"test preparation course\"]).agg([\"min\",\"median\",\"max\"])\n"
   ]
  },
  {
   "cell_type": "markdown",
   "id": "8b764a82",
   "metadata": {},
   "source": [
    "#### DATA INSIGHT\n",
    "* The students who have completed the test preparation course have better minimum marks compared to that of others who has not.\n",
    "* It can also inferred that even the students who has not undertaken the course have scored the maximum score for all the         categories.\n",
    "* The median of those who undertaken the course is higher than others.\n"
   ]
  },
  {
   "cell_type": "markdown",
   "id": "66946225",
   "metadata": {},
   "source": [
    "\n",
    "\n",
    "##  5.  Top 25% of students based on their maths score\n"
   ]
  },
  {
   "cell_type": "code",
   "execution_count": 34,
   "id": "d2b526b1",
   "metadata": {},
   "outputs": [
    {
     "name": "stdout",
     "output_type": "stream",
     "text": [
      "Total no. of students= 1000\n"
     ]
    }
   ],
   "source": [
    "#total no.of students\n",
    "tot=dt[\"gender\"].value_counts().sum()\n",
    "print(\"Total no. of students=\",tot)"
   ]
  },
  {
   "cell_type": "code",
   "execution_count": 35,
   "id": "b612ff2b",
   "metadata": {},
   "outputs": [
    {
     "data": {
      "text/html": [
       "<div>\n",
       "<style scoped>\n",
       "    .dataframe tbody tr th:only-of-type {\n",
       "        vertical-align: middle;\n",
       "    }\n",
       "\n",
       "    .dataframe tbody tr th {\n",
       "        vertical-align: top;\n",
       "    }\n",
       "\n",
       "    .dataframe thead th {\n",
       "        text-align: right;\n",
       "    }\n",
       "</style>\n",
       "<table border=\"1\" class=\"dataframe\">\n",
       "  <thead>\n",
       "    <tr style=\"text-align: right;\">\n",
       "      <th></th>\n",
       "      <th>gender</th>\n",
       "      <th>race/ethnicity</th>\n",
       "      <th>parental level of education</th>\n",
       "      <th>lunch</th>\n",
       "      <th>test preparation course</th>\n",
       "      <th>math score</th>\n",
       "      <th>reading score</th>\n",
       "      <th>writing score</th>\n",
       "    </tr>\n",
       "  </thead>\n",
       "  <tbody>\n",
       "    <tr>\n",
       "      <th>515</th>\n",
       "      <td>female</td>\n",
       "      <td>group E</td>\n",
       "      <td>some college</td>\n",
       "      <td>standard</td>\n",
       "      <td>none</td>\n",
       "      <td>100</td>\n",
       "      <td>92</td>\n",
       "      <td>97</td>\n",
       "    </tr>\n",
       "    <tr>\n",
       "      <th>516</th>\n",
       "      <td>female</td>\n",
       "      <td>group E</td>\n",
       "      <td>bachelor's degree</td>\n",
       "      <td>standard</td>\n",
       "      <td>none</td>\n",
       "      <td>100</td>\n",
       "      <td>100</td>\n",
       "      <td>100</td>\n",
       "    </tr>\n",
       "    <tr>\n",
       "      <th>517</th>\n",
       "      <td>female</td>\n",
       "      <td>group E</td>\n",
       "      <td>associate's degree</td>\n",
       "      <td>standard</td>\n",
       "      <td>none</td>\n",
       "      <td>100</td>\n",
       "      <td>100</td>\n",
       "      <td>100</td>\n",
       "    </tr>\n",
       "    <tr>\n",
       "      <th>996</th>\n",
       "      <td>male</td>\n",
       "      <td>group A</td>\n",
       "      <td>some college</td>\n",
       "      <td>standard</td>\n",
       "      <td>completed</td>\n",
       "      <td>100</td>\n",
       "      <td>96</td>\n",
       "      <td>86</td>\n",
       "    </tr>\n",
       "    <tr>\n",
       "      <th>997</th>\n",
       "      <td>male</td>\n",
       "      <td>group D</td>\n",
       "      <td>some college</td>\n",
       "      <td>standard</td>\n",
       "      <td>completed</td>\n",
       "      <td>100</td>\n",
       "      <td>97</td>\n",
       "      <td>99</td>\n",
       "    </tr>\n",
       "    <tr>\n",
       "      <th>...</th>\n",
       "      <td>...</td>\n",
       "      <td>...</td>\n",
       "      <td>...</td>\n",
       "      <td>...</td>\n",
       "      <td>...</td>\n",
       "      <td>...</td>\n",
       "      <td>...</td>\n",
       "      <td>...</td>\n",
       "    </tr>\n",
       "    <tr>\n",
       "      <th>428</th>\n",
       "      <td>female</td>\n",
       "      <td>group D</td>\n",
       "      <td>some college</td>\n",
       "      <td>free/reduced</td>\n",
       "      <td>none</td>\n",
       "      <td>77</td>\n",
       "      <td>86</td>\n",
       "      <td>86</td>\n",
       "    </tr>\n",
       "    <tr>\n",
       "      <th>429</th>\n",
       "      <td>female</td>\n",
       "      <td>group E</td>\n",
       "      <td>some high school</td>\n",
       "      <td>standard</td>\n",
       "      <td>none</td>\n",
       "      <td>77</td>\n",
       "      <td>79</td>\n",
       "      <td>80</td>\n",
       "    </tr>\n",
       "    <tr>\n",
       "      <th>849</th>\n",
       "      <td>male</td>\n",
       "      <td>group A</td>\n",
       "      <td>bachelor's degree</td>\n",
       "      <td>standard</td>\n",
       "      <td>none</td>\n",
       "      <td>77</td>\n",
       "      <td>67</td>\n",
       "      <td>68</td>\n",
       "    </tr>\n",
       "    <tr>\n",
       "      <th>850</th>\n",
       "      <td>male</td>\n",
       "      <td>group C</td>\n",
       "      <td>associate's degree</td>\n",
       "      <td>free/reduced</td>\n",
       "      <td>none</td>\n",
       "      <td>77</td>\n",
       "      <td>67</td>\n",
       "      <td>64</td>\n",
       "    </tr>\n",
       "    <tr>\n",
       "      <th>851</th>\n",
       "      <td>male</td>\n",
       "      <td>group D</td>\n",
       "      <td>some college</td>\n",
       "      <td>standard</td>\n",
       "      <td>completed</td>\n",
       "      <td>77</td>\n",
       "      <td>62</td>\n",
       "      <td>62</td>\n",
       "    </tr>\n",
       "  </tbody>\n",
       "</table>\n",
       "<p>250 rows × 8 columns</p>\n",
       "</div>"
      ],
      "text/plain": [
       "     gender race/ethnicity parental level of education         lunch  \\\n",
       "515  female        group E                some college      standard   \n",
       "516  female        group E           bachelor's degree      standard   \n",
       "517  female        group E          associate's degree      standard   \n",
       "996    male        group A                some college      standard   \n",
       "997    male        group D                some college      standard   \n",
       "..      ...            ...                         ...           ...   \n",
       "428  female        group D                some college  free/reduced   \n",
       "429  female        group E            some high school      standard   \n",
       "849    male        group A           bachelor's degree      standard   \n",
       "850    male        group C          associate's degree  free/reduced   \n",
       "851    male        group D                some college      standard   \n",
       "\n",
       "    test preparation course  math score  reading score  writing score  \n",
       "515                    none         100             92             97  \n",
       "516                    none         100            100            100  \n",
       "517                    none         100            100            100  \n",
       "996               completed         100             96             86  \n",
       "997               completed         100             97             99  \n",
       "..                      ...         ...            ...            ...  \n",
       "428                    none          77             86             86  \n",
       "429                    none          77             79             80  \n",
       "849                    none          77             67             68  \n",
       "850                    none          77             67             64  \n",
       "851               completed          77             62             62  \n",
       "\n",
       "[250 rows x 8 columns]"
      ]
     },
     "execution_count": 35,
     "metadata": {},
     "output_type": "execute_result"
    }
   ],
   "source": [
    "# since the total number of students is 1000,top 25% includes the top 250 students\n",
    "dt.nlargest(250,[\"math score\"]).head(250)"
   ]
  },
  {
   "cell_type": "markdown",
   "id": "37fa3d9e",
   "metadata": {},
   "source": [
    "\n",
    "#### DATA INSIGHT\n",
    "* The maximum math score scored by the top 25%  is 100.\n",
    "* The minimum math score scored by the top 25%  is 77.\n",
    "* Even both categories of test preparation course students are included among the top 25%."
   ]
  },
  {
   "cell_type": "code",
   "execution_count": null,
   "id": "8187e579",
   "metadata": {},
   "outputs": [],
   "source": []
  }
 ],
 "metadata": {
  "kernelspec": {
   "display_name": "Python 3",
   "language": "python",
   "name": "python3"
  },
  "language_info": {
   "codemirror_mode": {
    "name": "ipython",
    "version": 3
   },
   "file_extension": ".py",
   "mimetype": "text/x-python",
   "name": "python",
   "nbconvert_exporter": "python",
   "pygments_lexer": "ipython3",
   "version": "3.8.8"
  }
 },
 "nbformat": 4,
 "nbformat_minor": 5
}
